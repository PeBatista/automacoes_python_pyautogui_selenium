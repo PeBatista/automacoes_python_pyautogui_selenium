{
 "cells": [
  {
   "cell_type": "markdown",
   "id": "ef6b456a",
   "metadata": {},
   "source": [
    "## Manipulando a tela do computador com pyautogui"
   ]
  },
  {
   "cell_type": "code",
   "execution_count": null,
   "id": "5e66e174",
   "metadata": {},
   "outputs": [],
   "source": [
    "# Farei um screenshot, depois que a tela estiver prenchida a cada clique no botão de enviar.\n",
    "import pyautogui as py \n",
    "import time\n",
    "\n",
    "py.PAUSE =1 \n",
    "py.FAILSAFE = True\n",
    "\n",
    "py.hotkey('win','r')\n",
    "py.typewrite('link_teste') # acessando um site com furmulário --> onde capturo screenshots\n",
    "\n",
    "# Esperar a página abrir, as vezes pode demorar\n",
    "time..sleep(5)\n",
    "\n",
    "with open('membros.csv') as f:\n",
    "    next(f)\n",
    "    \n",
    "    for line in f:\n",
    "        line = line.strip()\n",
    "        line = line.split(';')\n",
    "        print(f'Dados: {line}')\n",
    "        \n",
    "        name = line[0]\n",
    "        sex = line[1]\n",
    "        email = line[2]\n",
    "        phone = line[3]\n",
    "        \n",
    "        py.click(py.locateCenterOnScreen('imagem',confidence=0.8),duration=1)\n",
    "        py.typewrite((name,interval=0.25))\n",
    "        \n",
    "        py.click(py.locateCenterOnScreen('imagem',confidence=0.8),duration=1)\n",
    "        py.typewrite((sex,interval=0.25))\n",
    "\n",
    "        py.click(py.locateCenterOnScreen('imagem',confidence=0.8),duration=1)\n",
    "        py.typewrite((email,interval=0.25))\n",
    "        \n",
    "        py.click(py.locateCenterOnScreen('imagem',confidence=0.8),duration=1)\n",
    "        py.typewrite((phone,interval=0.25))\n",
    "                \n",
    "        if sex == 'Masculino':\n",
    "            py.click(py.locateCenterOnScreen('imagem_homem',confidence=0.8),duration=1)\n",
    "        else:\n",
    "            py.click(py.locateCenterOnScreen('imagem_mulher',confidence=0.8),duration=1)\n",
    "        \n",
    "        py.screenshot(f'cadastro_{name}.png') # controle de inserções realizadas\n",
    "        \n",
    "        time.sleep(3)\n",
    "    \n",
    "py.alert(text='Programa Finalizado com Sucesso', title='aviso',button='OK')\n",
    "\n",
    "            "
   ]
  },
  {
   "cell_type": "markdown",
   "id": "b770603c",
   "metadata": {},
   "source": [
    "# Usando um pouco do beautiful Soup"
   ]
  },
  {
   "cell_type": "code",
   "execution_count": 18,
   "id": "effc7364",
   "metadata": {},
   "outputs": [],
   "source": [
    "from bs4 import BeautifulSoup as bs"
   ]
  },
  {
   "cell_type": "code",
   "execution_count": 40,
   "id": "9be3ca07",
   "metadata": {},
   "outputs": [
    {
     "name": "stdout",
     "output_type": "stream",
     "text": [
      "http://www.google.com\n",
      "https://www.udemy.com/user/gabriel-henrique-casemiro/\n",
      "https://t.me/criandoroboscompython\n"
     ]
    }
   ],
   "source": [
    "# como o arquivo já está armazenado dentro de minha máquina, podemos usar está artimanha\n",
    "html_file = open(\"../Downloads/generic_simple.html\",mode='r',encoding='utf-8')\n",
    "# no mode de ler e o encoding é para ler com acentos\n",
    "soup = BeautifulSoup(html_file)\n",
    "soup.prettify() # Jeito mais profissional de exibir\n",
    "soup.get_text().replace('\\n',\" \") # pegando apenas o texto e substituindo os \\... por nada \n",
    "soup.title.parent.name # Pegando o nome da tag pai da tag title, depois pegamos o nome da tag pai \n",
    "soup\n",
    "\n",
    "soup.find_all('div',class_=\"article\") # encontrando o texto de uma forma mais otimizada, \n",
    "# com a tag e o ID ou CLASS, \n",
    "# através da find_all, procuramos pelo arquivo inteiro e depois retornamos uma list\n",
    "\n",
    "# ------------------------\n",
    "# Achando todos os links que tem dentro de uma página\n",
    "for i in soup.find_all('a'):\n",
    "    print(i['href']) # passando por cada linha dentro da list retornada e verificando o parâmetro [href] ="
   ]
  },
  {
   "cell_type": "code",
   "execution_count": 58,
   "id": "68cde9b7",
   "metadata": {},
   "outputs": [
    {
     "name": "stdout",
     "output_type": "stream",
     "text": [
      "{'cd_aluno': '100', 'nome': 'Rodrigo', 'nt_estudante': '8'}\n",
      "{'cd_aluno': '101', 'nome': 'Diego', 'nt_estudante': '8'}\n",
      "{'cd_aluno': '103', 'nome': 'Alan', 'nt_estudante': '9'}\n",
      "{'cd_aluno': '104', 'nome': 'Tony', 'nt_estudante': '10'}\n",
      "{'cd_aluno': '105', 'nome': 'Fabiano', 'nt_estudante': '0'}\n"
     ]
    }
   ],
   "source": [
    "html_file = open('../Downloads/data_in_table.html',mode='r',encoding='utf-8')\n",
    "sp = bs(html_file, 'html.parser')\n",
    "table = sp.find(id='main_table')\n",
    "table_rows = table.find_all('tr') # todas as linhas da tabela, guardando em cada posição dentro de list\n",
    "\n",
    "dados_alunos = []\n",
    "\n",
    "for linha in table_rows:\n",
    "    colunas = linha.find_all('td')\n",
    "    if len(colunas) > 0:\n",
    "        cd_estudante = colunas[0].text # pegando apenas o texto, da primeira linha da tab e assim por di\n",
    "        nm_estudante = colunas[1].text\n",
    "        nt_estudante = colunas[2].text\n",
    "        dict_aluno = {\n",
    "            'cd_aluno':cd_estudante,\n",
    "            'nome':nm_estudante,\n",
    "            'nt_estudante':nt_estudante\n",
    "        }\n",
    "        dados_alunos.append(dict_aluno)\n",
    "\n",
    "for linha in dados_alunos:\n",
    "    print(linha)"
   ]
  },
  {
   "cell_type": "code",
   "execution_count": 19,
   "id": "86e96db4",
   "metadata": {},
   "outputs": [
    {
     "name": "stdout",
     "output_type": "stream",
     "text": [
      "{'nm_curso': 'Criando Robôs com Python - Automatizando processos', 'ds_interesse': '98%'}\n",
      "{'nm_curso': 'Criando Robôs com Python - Automatizando o instagram', 'ds_interesse': '98%'}\n",
      "{'nm_curso': 'HTML e CSS para crianças', 'ds_interesse': '92%'}\n",
      "{'nm_curso': 'Introdução ao desenvolvimento web com Python e Django', 'ds_interesse': '92%'}\n"
     ]
    },
    {
     "data": {
      "text/html": [
       "<div>\n",
       "<style scoped>\n",
       "    .dataframe tbody tr th:only-of-type {\n",
       "        vertical-align: middle;\n",
       "    }\n",
       "\n",
       "    .dataframe tbody tr th {\n",
       "        vertical-align: top;\n",
       "    }\n",
       "\n",
       "    .dataframe thead th {\n",
       "        text-align: right;\n",
       "    }\n",
       "</style>\n",
       "<table border=\"1\" class=\"dataframe\">\n",
       "  <thead>\n",
       "    <tr style=\"text-align: right;\">\n",
       "      <th></th>\n",
       "      <th>nm_curso</th>\n",
       "      <th>ds_interesse</th>\n",
       "    </tr>\n",
       "  </thead>\n",
       "  <tbody>\n",
       "    <tr>\n",
       "      <th>0</th>\n",
       "      <td>Criando Robôs com Python - Automatizando proce...</td>\n",
       "      <td>98%</td>\n",
       "    </tr>\n",
       "    <tr>\n",
       "      <th>1</th>\n",
       "      <td>Criando Robôs com Python - Automatizando o ins...</td>\n",
       "      <td>98%</td>\n",
       "    </tr>\n",
       "    <tr>\n",
       "      <th>2</th>\n",
       "      <td>HTML e CSS para crianças</td>\n",
       "      <td>92%</td>\n",
       "    </tr>\n",
       "    <tr>\n",
       "      <th>3</th>\n",
       "      <td>Introdução ao desenvolvimento web com Python e...</td>\n",
       "      <td>92%</td>\n",
       "    </tr>\n",
       "  </tbody>\n",
       "</table>\n",
       "</div>"
      ],
      "text/plain": [
       "                                            nm_curso ds_interesse\n",
       "0  Criando Robôs com Python - Automatizando proce...          98%\n",
       "1  Criando Robôs com Python - Automatizando o ins...          98%\n",
       "2                           HTML e CSS para crianças          92%\n",
       "3  Introdução ao desenvolvimento web com Python e...          92%"
      ]
     },
     "execution_count": 19,
     "metadata": {},
     "output_type": "execute_result"
    }
   ],
   "source": [
    "html_file = open('../Downloads/data_in_table_2.html',mode='r',encoding='utf-8')\n",
    "sp = bs(html_file, 'html.parser')\n",
    "# queremos acessar uma segunda tabela dentro do cóg html --> segunda == [1]\n",
    "table_2 = sp.find_all('table')[1]\n",
    "table_rows = table_2.find_all('tr')\n",
    "\n",
    "dados = []\n",
    "\n",
    "for linha in table_rows:\n",
    "    colunas = linha.find_all('td')\n",
    "    if len(colunas) > 0:\n",
    "        dict = {'nm_curso':colunas[0].text,'ds_interesse':colunas[1].text}\n",
    "        dados.append(dict)\n",
    "\n",
    "for linha in dados:\n",
    "    print(linha)\n",
    "\n",
    "import pandas as pd \n",
    "df = pd.DataFrame(dados)\n",
    "df"
   ]
  },
  {
   "cell_type": "markdown",
   "id": "d09ae031",
   "metadata": {},
   "source": [
    "## Usando Web Scraping em HTML com Requests\n",
    "* Pegando quantidades de links que temos dentro da página na web"
   ]
  },
  {
   "cell_type": "code",
   "execution_count": 83,
   "id": "f839345d",
   "metadata": {},
   "outputs": [
    {
     "data": {
      "text/plain": [
       "15"
      ]
     },
     "execution_count": 83,
     "metadata": {},
     "output_type": "execute_result"
    }
   ],
   "source": [
    "import requests as rq\n",
    "# requsição de sites com está biblioteca\n",
    "page = rq.get('https://www.gabrielcasemiro.com.br/') # site do Professor para fins de estudos (cuidado com liçenças)\n",
    "\n",
    "# TESTANDO !\n",
    "# if page.status_code == 200: # Se o Status da execução for 200 --> a página está sendo acessada :)\n",
    "#     print(page.text)\n",
    "# else:\n",
    "#     print('HTTP error:', page.status_code) # caso encontre algum tipo de erro\n",
    "\n",
    "sp = bs(page.text)\n",
    "links = []\n",
    "for i in sp.find_all('a'):\n",
    "    links.append(i['href'])\n",
    "len(links) # quantidade de links existentes dentro desta página HTML"
   ]
  },
  {
   "cell_type": "markdown",
   "id": "9903bf13",
   "metadata": {},
   "source": [
    "# Requests com BS avançando mais"
   ]
  },
  {
   "cell_type": "code",
   "execution_count": 84,
   "id": "11995c7d",
   "metadata": {
    "collapsed": true
   },
   "outputs": [
    {
     "name": "stdout",
     "output_type": "stream",
     "text": [
      "/\n",
      "/\n",
      "#home\n",
      "#about\n",
      "#experience\n",
      "#works\n",
      "#contact\n",
      "https://t.me/criandoroboscompython\n",
      "https://github.com/GabrielCasemiro\n",
      "https://www.linkedin.com/in/gabriel-casemiro-74a89b128/\n",
      "https://t.me/gcasemiro\n",
      "#about\n",
      "https://www.udemy.com/user/gabriel-henrique-casemiro/\n",
      "https://t.me/gcasemiro\n",
      "javascript:\n"
     ]
    }
   ],
   "source": [
    "import requests as rq\n",
    "# requsição de sites com está biblioteca\n",
    "page = rq.get('https://www.gabrielcasemiro.com.br/') # site do Professor para fins de estudos (cuidado com liçenças)\n",
    "\n",
    "if page.status_code == 200: # Se o Status da execução for 200 --> a página está sendo acessada :)\n",
    "    sp = bs(page.text)\n",
    "    \n",
    "    for link in sp.find_all('a'):\n",
    "        print(link.get('href',\"\"))\n",
    "else:\n",
    "    print() # caso encontre algum tipo de erro"
   ]
  },
  {
   "cell_type": "markdown",
   "id": "3155c679",
   "metadata": {},
   "source": [
    "## Utilizando o Selenium para programar um primeiro robô\n",
    "* Este que vai verificar o link e depois dizer se este está disponível ou não\n",
    "* Depois colocamos para mais outros tipos de informções"
   ]
  },
  {
   "cell_type": "code",
   "execution_count": null,
   "id": "95205203",
   "metadata": {},
   "outputs": [],
   "source": [
    "# !pip install selenium\n",
    "from selenium import webdriver\n",
    "from selenium.webdriver.common.keys\n",
    "import keys import time\n",
    "print('iniciando o nosso robô ..')\n",
    "driver = webdriver.Chrome('\\C:\\ProgramFiles\\Google\\Chrome\\Application\\')\n",
    "# falando o caminho para o nosso chromedriver\n",
    "driver.get('https://registro.br/') # pedindo para fazer uma requisição de GET dentro da registro\n",
    "\n",
    "pesquisa = driver.find_element_by_id('is-avail-field')\n",
    "pesquisa.clear() # limpando a barra de pesquisa\n",
    "dominios = \"roboscompython.com.br\"\n",
    "pesquisa.send_keys(dominio)\n",
    "                          \n",
    "pesquisa.send_keys(Keys.RETURN)\n",
    "time.sleep(2)\n",
    "        \n",
    "resultados = driver.find_element_by_tag_name('strong') # temos que ver a redenrização, para os registros da TAG\n",
    "# verificando também os dominios \n",
    "print('Dominio %s %s' % (resultado[4].text))\n",
    "                          \n",
    "time.sleep(2) # Dormindo\n",
    "driver.close()"
   ]
  },
  {
   "cell_type": "markdown",
   "id": "3b225161",
   "metadata": {},
   "source": [
    "## Utilizando listas em nossos códigos com o Selenium"
   ]
  },
  {
   "cell_type": "code",
   "execution_count": null,
   "id": "2d926a74",
   "metadata": {},
   "outputs": [],
   "source": [
    "from selenium import webdriver\n",
    "from selenium.webdriver.common.keys\n",
    "import keys import time\n",
    "print('iniciando o nosso robô ..')\n",
    "driver = webdriver.Chrome('\\C:\\ProgramFiles\\Google\\Chrome\\Application\\')\n",
    "# falando o caminho para o nosso chromedriver\n",
    "driver.get('https://registro.br/') # pedindo para fazer uma requisição de GET dentro da registro\n",
    "\n",
    "\n",
    "dominios = [\"roboscompython.com.br\",\"udemy.com\",\"uol.com.br\",\"pythoncurso.com\"]\n",
    "for dom in dominios: \n",
    "    pesquisa = driver.find_element_by_id('is-avail-field')\n",
    "    pesquisa.clear() # limpando a barra de pesquisa\n",
    "    pesquisa.send_keys(dom)\n",
    "    pesquisa.send_keys(Keys.RETURN)\n",
    "    time.sleep(2)\n",
    "    resultados = driver.find_element_by_tag_name('strong') \n",
    "    print('Dominio %s %s' % (resultado[4].text))\n",
    "                          \n",
    "driver.close()"
   ]
  },
  {
   "cell_type": "markdown",
   "id": "4645fc4f",
   "metadata": {},
   "source": [
    "## Demonstração do Robô - Pesquisando Dentro do Google"
   ]
  },
  {
   "cell_type": "code",
   "execution_count": 5,
   "id": "6ebb8dfb",
   "metadata": {
    "collapsed": true
   },
   "outputs": [
    {
     "name": "stdout",
     "output_type": "stream",
     "text": [
      "Digite a pesquisa: Python\n"
     ]
    },
    {
     "ename": "AttributeError",
     "evalue": "'str' object has no attribute 'capabilities'",
     "output_type": "error",
     "traceback": [
      "\u001b[1;31m---------------------------------------------------------------------------\u001b[0m",
      "\u001b[1;31mAttributeError\u001b[0m                            Traceback (most recent call last)",
      "File \u001b[1;32m~\\AppData\\Local\\anaconda3\\Lib\\site-packages\\selenium\\webdriver\\common\\driver_finder.py:38\u001b[0m, in \u001b[0;36mDriverFinder.get_path\u001b[1;34m(service, options)\u001b[0m\n\u001b[0;32m     37\u001b[0m \u001b[38;5;28;01mtry\u001b[39;00m:\n\u001b[1;32m---> 38\u001b[0m     path \u001b[38;5;241m=\u001b[39m SeleniumManager()\u001b[38;5;241m.\u001b[39mdriver_location(options) \u001b[38;5;28;01mif\u001b[39;00m path \u001b[38;5;129;01mis\u001b[39;00m \u001b[38;5;28;01mNone\u001b[39;00m \u001b[38;5;28;01melse\u001b[39;00m path\n\u001b[0;32m     39\u001b[0m \u001b[38;5;28;01mexcept\u001b[39;00m \u001b[38;5;167;01mException\u001b[39;00m \u001b[38;5;28;01mas\u001b[39;00m err:\n",
      "File \u001b[1;32m~\\AppData\\Local\\anaconda3\\Lib\\site-packages\\selenium\\webdriver\\common\\selenium_manager.py:76\u001b[0m, in \u001b[0;36mSeleniumManager.driver_location\u001b[1;34m(self, options)\u001b[0m\n\u001b[0;32m     69\u001b[0m \u001b[38;5;250m\u001b[39m\u001b[38;5;124;03m\"\"\"Determines the path of the correct driver.\u001b[39;00m\n\u001b[0;32m     70\u001b[0m \n\u001b[0;32m     71\u001b[0m \u001b[38;5;124;03m:Args:\u001b[39;00m\n\u001b[0;32m     72\u001b[0m \u001b[38;5;124;03m - browser: which browser to get the driver path for.\u001b[39;00m\n\u001b[0;32m     73\u001b[0m \u001b[38;5;124;03m:Returns: The driver path to use\u001b[39;00m\n\u001b[0;32m     74\u001b[0m \u001b[38;5;124;03m\"\"\"\u001b[39;00m\n\u001b[1;32m---> 76\u001b[0m browser \u001b[38;5;241m=\u001b[39m options\u001b[38;5;241m.\u001b[39mcapabilities[\u001b[38;5;124m\"\u001b[39m\u001b[38;5;124mbrowserName\u001b[39m\u001b[38;5;124m\"\u001b[39m]\n\u001b[0;32m     78\u001b[0m args \u001b[38;5;241m=\u001b[39m [\u001b[38;5;28mstr\u001b[39m(\u001b[38;5;28mself\u001b[39m\u001b[38;5;241m.\u001b[39mget_binary()), \u001b[38;5;124m\"\u001b[39m\u001b[38;5;124m--browser\u001b[39m\u001b[38;5;124m\"\u001b[39m, browser]\n",
      "\u001b[1;31mAttributeError\u001b[0m: 'str' object has no attribute 'capabilities'",
      "\nDuring handling of the above exception, another exception occurred:\n",
      "\u001b[1;31mAttributeError\u001b[0m                            Traceback (most recent call last)",
      "Cell \u001b[1;32mIn[5], line 7\u001b[0m\n\u001b[0;32m      3\u001b[0m \u001b[38;5;28;01mfrom\u001b[39;00m \u001b[38;5;21;01mselenium\u001b[39;00m\u001b[38;5;21;01m.\u001b[39;00m\u001b[38;5;21;01mwebdriver\u001b[39;00m\u001b[38;5;21;01m.\u001b[39;00m\u001b[38;5;21;01mcommon\u001b[39;00m\u001b[38;5;21;01m.\u001b[39;00m\u001b[38;5;21;01mkeys\u001b[39;00m \u001b[38;5;28;01mimport\u001b[39;00m Keys\n\u001b[0;32m      5\u001b[0m pesquisa \u001b[38;5;241m=\u001b[39m \u001b[38;5;28minput\u001b[39m(\u001b[38;5;124m\"\u001b[39m\u001b[38;5;124mDigite a pesquisa: \u001b[39m\u001b[38;5;124m\"\u001b[39m)\n\u001b[1;32m----> 7\u001b[0m driver \u001b[38;5;241m=\u001b[39m webdriver\u001b[38;5;241m.\u001b[39mChrome(\u001b[38;5;124m'\u001b[39m\u001b[38;5;124mlocal\u001b[39m\u001b[38;5;124m'\u001b[39m) \u001b[38;5;66;03m# deixa na mesma página o ChromeDriver.exe --> com mesma versão\u001b[39;00m\n\u001b[0;32m      8\u001b[0m driver\u001b[38;5;241m.\u001b[39mget(\u001b[38;5;124m'\u001b[39m\u001b[38;5;124murl do google\u001b[39m\u001b[38;5;124m'\u001b[39m)\n\u001b[0;32m     10\u001b[0m \u001b[38;5;66;03m# Depois o google de inspencionar, podemos editar oque queremos fazer dentro da página.\u001b[39;00m\n\u001b[0;32m     11\u001b[0m \u001b[38;5;66;03m# Escreveremos algumas informações dentro dele.\u001b[39;00m\n",
      "File \u001b[1;32m~\\AppData\\Local\\anaconda3\\Lib\\site-packages\\selenium\\webdriver\\chrome\\webdriver.py:45\u001b[0m, in \u001b[0;36mWebDriver.__init__\u001b[1;34m(self, options, service, keep_alive)\u001b[0m\n\u001b[0;32m     42\u001b[0m service \u001b[38;5;241m=\u001b[39m service \u001b[38;5;28;01mif\u001b[39;00m service \u001b[38;5;28;01melse\u001b[39;00m Service()\n\u001b[0;32m     43\u001b[0m options \u001b[38;5;241m=\u001b[39m options \u001b[38;5;28;01mif\u001b[39;00m options \u001b[38;5;28;01melse\u001b[39;00m Options()\n\u001b[1;32m---> 45\u001b[0m \u001b[38;5;28msuper\u001b[39m()\u001b[38;5;241m.\u001b[39m\u001b[38;5;21m__init__\u001b[39m(\n\u001b[0;32m     46\u001b[0m     DesiredCapabilities\u001b[38;5;241m.\u001b[39mCHROME[\u001b[38;5;124m\"\u001b[39m\u001b[38;5;124mbrowserName\u001b[39m\u001b[38;5;124m\"\u001b[39m],\n\u001b[0;32m     47\u001b[0m     \u001b[38;5;124m\"\u001b[39m\u001b[38;5;124mgoog\u001b[39m\u001b[38;5;124m\"\u001b[39m,\n\u001b[0;32m     48\u001b[0m     options,\n\u001b[0;32m     49\u001b[0m     service,\n\u001b[0;32m     50\u001b[0m     keep_alive,\n\u001b[0;32m     51\u001b[0m )\n",
      "File \u001b[1;32m~\\AppData\\Local\\anaconda3\\Lib\\site-packages\\selenium\\webdriver\\chromium\\webdriver.py:51\u001b[0m, in \u001b[0;36mChromiumDriver.__init__\u001b[1;34m(self, browser_name, vendor_prefix, options, service, keep_alive)\u001b[0m\n\u001b[0;32m     47\u001b[0m \u001b[38;5;28mself\u001b[39m\u001b[38;5;241m.\u001b[39mvendor_prefix \u001b[38;5;241m=\u001b[39m vendor_prefix\n\u001b[0;32m     49\u001b[0m \u001b[38;5;28mself\u001b[39m\u001b[38;5;241m.\u001b[39mservice \u001b[38;5;241m=\u001b[39m service\n\u001b[1;32m---> 51\u001b[0m \u001b[38;5;28mself\u001b[39m\u001b[38;5;241m.\u001b[39mservice\u001b[38;5;241m.\u001b[39mpath \u001b[38;5;241m=\u001b[39m DriverFinder\u001b[38;5;241m.\u001b[39mget_path(\u001b[38;5;28mself\u001b[39m\u001b[38;5;241m.\u001b[39mservice, options)\n\u001b[0;32m     53\u001b[0m \u001b[38;5;28mself\u001b[39m\u001b[38;5;241m.\u001b[39mservice\u001b[38;5;241m.\u001b[39mstart()\n\u001b[0;32m     55\u001b[0m \u001b[38;5;28;01mtry\u001b[39;00m:\n",
      "File \u001b[1;32m~\\AppData\\Local\\anaconda3\\Lib\\site-packages\\selenium\\webdriver\\common\\driver_finder.py:40\u001b[0m, in \u001b[0;36mDriverFinder.get_path\u001b[1;34m(service, options)\u001b[0m\n\u001b[0;32m     38\u001b[0m     path \u001b[38;5;241m=\u001b[39m SeleniumManager()\u001b[38;5;241m.\u001b[39mdriver_location(options) \u001b[38;5;28;01mif\u001b[39;00m path \u001b[38;5;129;01mis\u001b[39;00m \u001b[38;5;28;01mNone\u001b[39;00m \u001b[38;5;28;01melse\u001b[39;00m path\n\u001b[0;32m     39\u001b[0m \u001b[38;5;28;01mexcept\u001b[39;00m \u001b[38;5;167;01mException\u001b[39;00m \u001b[38;5;28;01mas\u001b[39;00m err:\n\u001b[1;32m---> 40\u001b[0m     msg \u001b[38;5;241m=\u001b[39m \u001b[38;5;124mf\u001b[39m\u001b[38;5;124m\"\u001b[39m\u001b[38;5;124mUnable to obtain driver for \u001b[39m\u001b[38;5;132;01m{\u001b[39;00moptions\u001b[38;5;241m.\u001b[39mcapabilities[\u001b[38;5;124m'\u001b[39m\u001b[38;5;124mbrowserName\u001b[39m\u001b[38;5;124m'\u001b[39m]\u001b[38;5;132;01m}\u001b[39;00m\u001b[38;5;124m using Selenium Manager.\u001b[39m\u001b[38;5;124m\"\u001b[39m\n\u001b[0;32m     41\u001b[0m     \u001b[38;5;28;01mraise\u001b[39;00m NoSuchDriverException(msg) \u001b[38;5;28;01mfrom\u001b[39;00m \u001b[38;5;21;01merr\u001b[39;00m\n\u001b[0;32m     43\u001b[0m \u001b[38;5;28;01mif\u001b[39;00m path \u001b[38;5;129;01mis\u001b[39;00m \u001b[38;5;28;01mNone\u001b[39;00m \u001b[38;5;129;01mor\u001b[39;00m \u001b[38;5;129;01mnot\u001b[39;00m Path(path)\u001b[38;5;241m.\u001b[39mis_file():\n",
      "\u001b[1;31mAttributeError\u001b[0m: 'str' object has no attribute 'capabilities'"
     ]
    }
   ],
   "source": [
    "# este robô passa dentro do programa  e me devolve, certas pesquisas que ele faz dentro de um arquivo txt.\n",
    "from selenium import webdriver\n",
    "from selenium.webdriver.common.keys import Keys\n",
    "\n",
    "pesquisa = input(\"Digite a pesquisa: \")\n",
    "\n",
    "driver = webdriver.Chrome('local') # deixa na mesma página o ChromeDriver.exe --> com mesma versão\n",
    "driver.get('url do google')\n",
    "\n",
    "# Depois o google de inspencionar, podemos editar oque queremos fazer dentro da página.\n",
    "# Escreveremos algumas informações dentro dele.\n",
    "\n",
    "campo = driver.find_element_by_xpath(\"input[@aria-label='Pesquisar']\") # Pesquisar por qualquer atributo ou elemento de nossa página\n",
    "campo.send_keys(pesquisa) # escrever nossa pesquisa\n",
    "campo.send_keys(Keys.ENTER)\n",
    "\n",
    "resultados = driver.find_element_by_xpath(\"//div[@id='result-stats']\").text\n",
    "print(resultados) # pegando o resultado através da div e eu pego o valor contido dentro da tagresult\n",
    "nr_resultados = int(resultados.split(\"Aproximadamente \")[1].split(' resultados')[0]) # Segunda fatia, do texto para frente - [1]\n",
    "max_paginas = nr_resultados/10\n",
    "print(f'Número de Páginas: {max_paginas}') # int(Pegando apenas o total de páginas através do texto)"
   ]
  },
  {
   "cell_type": "markdown",
   "id": "bd4fd90c",
   "metadata": {},
   "source": [
    "## Criando classe Youtube e Controlando Chrome"
   ]
  },
  {
   "cell_type": "code",
   "execution_count": 1,
   "id": "0eca4289",
   "metadata": {
    "collapsed": true
   },
   "outputs": [
    {
     "name": "stdout",
     "output_type": "stream",
     "text": [
      "Collecting chromedriver_binary\n",
      "  Downloading chromedriver-binary-119.0.6018.4.0.tar.gz (5.6 kB)\n",
      "  Preparing metadata (setup.py): started\n",
      "  Preparing metadata (setup.py): finished with status 'done'\n",
      "Building wheels for collected packages: chromedriver_binary\n",
      "  Building wheel for chromedriver_binary (setup.py): started\n",
      "  Building wheel for chromedriver_binary (setup.py): finished with status 'done'\n",
      "  Created wheel for chromedriver_binary: filename=chromedriver_binary-119.0.6018.4.0-py3-none-any.whl size=8396212 sha256=18f9e4f1fd2606b17ac7fd2620921a8c0d689ae455da9249999b795875b9fef7\n",
      "  Stored in directory: c:\\users\\e109969\\appdata\\local\\pip\\cache\\wheels\\c7\\03\\8e\\b08829ff1322f4f75788a6cb3bdc6014747cd442fc9ae840df\n",
      "Successfully built chromedriver_binary\n",
      "Installing collected packages: chromedriver_binary\n",
      "Successfully installed chromedriver_binary-119.0.6018.4.0\n"
     ]
    }
   ],
   "source": [
    "# !pip install chromedriver_binary\n",
    "# !pip install selenium"
   ]
  },
  {
   "cell_type": "code",
   "execution_count": 26,
   "id": "46c54a8c",
   "metadata": {
    "collapsed": true
   },
   "outputs": [
    {
     "ename": "AttributeError",
     "evalue": "'WebDriver' object has no attribute 'find_elements_by_xpath'",
     "output_type": "error",
     "traceback": [
      "\u001b[1;31m---------------------------------------------------------------------------\u001b[0m",
      "\u001b[1;31mAttributeError\u001b[0m                            Traceback (most recent call last)",
      "Cell \u001b[1;32mIn[26], line 30\u001b[0m\n\u001b[0;32m     27\u001b[0m         time\u001b[38;5;241m.\u001b[39msleep(\u001b[38;5;241m5\u001b[39m)\n\u001b[0;32m     29\u001b[0m bot \u001b[38;5;241m=\u001b[39m RoboYoutube()\n\u001b[1;32m---> 30\u001b[0m bot\u001b[38;5;241m.\u001b[39mbusca(\u001b[38;5;124m'\u001b[39m\u001b[38;5;124mfutebol\u001b[39m\u001b[38;5;124m'\u001b[39m,\u001b[38;5;241m5\u001b[39m)\n",
      "Cell \u001b[1;32mIn[26], line 17\u001b[0m, in \u001b[0;36mRoboYoutube.busca\u001b[1;34m(self, busca, paginas)\u001b[0m\n\u001b[0;32m     14\u001b[0m \u001b[38;5;28mself\u001b[39m\u001b[38;5;241m.\u001b[39mwebdriver\u001b[38;5;241m.\u001b[39mget(url)\n\u001b[0;32m     16\u001b[0m \u001b[38;5;28;01mwhile\u001b[39;00m pagina \u001b[38;5;241m<\u001b[39m\u001b[38;5;241m=\u001b[39m paginas:\n\u001b[1;32m---> 17\u001b[0m     titulos \u001b[38;5;241m=\u001b[39m \u001b[38;5;28mself\u001b[39m\u001b[38;5;241m.\u001b[39mwebdriver\u001b[38;5;241m.\u001b[39mfind_elements_by_xpath(\u001b[38;5;124m\"\u001b[39m\u001b[38;5;124m//a[@id=\u001b[39m\u001b[38;5;124m'\u001b[39m\u001b[38;5;124mvideo-title\u001b[39m\u001b[38;5;124m'\u001b[39m\u001b[38;5;124m]\u001b[39m\u001b[38;5;124m\"\u001b[39m)\n\u001b[0;32m     18\u001b[0m     \u001b[38;5;28;01mfor\u001b[39;00m titulo \u001b[38;5;129;01min\u001b[39;00m titulos:\n\u001b[0;32m     19\u001b[0m         \u001b[38;5;28mprint\u001b[39m(\u001b[38;5;124mf\u001b[39m\u001b[38;5;124m\"\u001b[39m\u001b[38;5;124mVídeo encontrado: \u001b[39m\u001b[38;5;132;01m{\u001b[39;00mtitulo\u001b[38;5;241m.\u001b[39mtext\u001b[38;5;132;01m}\u001b[39;00m\u001b[38;5;124m\"\u001b[39m)\n",
      "\u001b[1;31mAttributeError\u001b[0m: 'WebDriver' object has no attribute 'find_elements_by_xpath'"
     ]
    }
   ],
   "source": [
    "import chromedriver_binary # extensão do Chrome onde você pode pesquiser determinadas coisas.\n",
    "from selenium import webdriver # selenium com o seu driver web.\n",
    "import time\n",
    "\n",
    "class RoboYoutube():\n",
    "    def __init__(self):\n",
    "        self.webdriver = webdriver.Chrome()\n",
    "        \n",
    "    def busca(self,busca,paginas):\n",
    "        videos = []\n",
    "        pagina = 1\n",
    "        \n",
    "        url = f\"https://www.youtube.com/results?search_query={busca}\"\n",
    "        self.webdriver.get(url)\n",
    "        \n",
    "        while pagina <= paginas:\n",
    "            titulos = self.webdriver.find_elements_by_xpath(\"//a[@id='video-title']\")\n",
    "            for titulo in titulos:\n",
    "                print(f\"Vídeo encontrado: {titulo.text}\")\n",
    "            self.proxima_pagina(pagina)\n",
    "            pagina += 1\n",
    "        \n",
    "    def proxima_pagina(self):\n",
    "        print(f'Mudando para a página {pagina + 1}')\n",
    "        bottom = pagina * 10000 # cálculo automático de quanto ele tem que descer\n",
    "        self.webdriver.execute_script(f'window.scrollTo(0,{bottom});')\n",
    "        time.sleep(5)\n",
    "        \n",
    "bot = RoboYoutube()\n",
    "bot.busca('futebol',5)\n",
    "# PEGANDO O NOME DO TÍTULO DO VÍDEO DENTRO DO YOUTUBE"
   ]
  },
  {
   "cell_type": "markdown",
   "id": "35c0ab94",
   "metadata": {},
   "source": [
    "## Enviando e-mail automaticamente / Com Estilizações e HTML CSS"
   ]
  },
  {
   "cell_type": "code",
   "execution_count": 1,
   "id": "f24cc23f",
   "metadata": {
    "collapsed": true
   },
   "outputs": [
    {
     "ename": "PermissionError",
     "evalue": "[WinError 10013] Foi feita uma tentativa de acesso a um soquete de uma maneira que é proibida pelas permissões de acesso",
     "output_type": "error",
     "traceback": [
      "\u001b[1;31m---------------------------------------------------------------------------\u001b[0m",
      "\u001b[1;31mPermissionError\u001b[0m                           Traceback (most recent call last)",
      "Cell \u001b[1;32mIn[1], line 21\u001b[0m\n\u001b[0;32m     19\u001b[0m msg\u001b[38;5;241m.\u001b[39mattach(MIMEText(body, \u001b[38;5;124m'\u001b[39m\u001b[38;5;124mplain\u001b[39m\u001b[38;5;124m'\u001b[39m))\n\u001b[0;32m     20\u001b[0m \u001b[38;5;66;03m#Servidor SMTP\u001b[39;00m\n\u001b[1;32m---> 21\u001b[0m s \u001b[38;5;241m=\u001b[39m smtplib\u001b[38;5;241m.\u001b[39mSMTP(\u001b[38;5;124m'\u001b[39m\u001b[38;5;124msmtp.gmail.com\u001b[39m\u001b[38;5;124m'\u001b[39m, \u001b[38;5;241m587\u001b[39m)\n\u001b[0;32m     22\u001b[0m \u001b[38;5;66;03m# Segurança\u001b[39;00m\n\u001b[0;32m     23\u001b[0m s\u001b[38;5;241m.\u001b[39mstarttls()\n",
      "File \u001b[1;32m~\\AppData\\Local\\anaconda3\\Lib\\smtplib.py:255\u001b[0m, in \u001b[0;36mSMTP.__init__\u001b[1;34m(self, host, port, local_hostname, timeout, source_address)\u001b[0m\n\u001b[0;32m    252\u001b[0m \u001b[38;5;28mself\u001b[39m\u001b[38;5;241m.\u001b[39m_auth_challenge_count \u001b[38;5;241m=\u001b[39m \u001b[38;5;241m0\u001b[39m\n\u001b[0;32m    254\u001b[0m \u001b[38;5;28;01mif\u001b[39;00m host:\n\u001b[1;32m--> 255\u001b[0m     (code, msg) \u001b[38;5;241m=\u001b[39m \u001b[38;5;28mself\u001b[39m\u001b[38;5;241m.\u001b[39mconnect(host, port)\n\u001b[0;32m    256\u001b[0m     \u001b[38;5;28;01mif\u001b[39;00m code \u001b[38;5;241m!=\u001b[39m \u001b[38;5;241m220\u001b[39m:\n\u001b[0;32m    257\u001b[0m         \u001b[38;5;28mself\u001b[39m\u001b[38;5;241m.\u001b[39mclose()\n",
      "File \u001b[1;32m~\\AppData\\Local\\anaconda3\\Lib\\smtplib.py:341\u001b[0m, in \u001b[0;36mSMTP.connect\u001b[1;34m(self, host, port, source_address)\u001b[0m\n\u001b[0;32m    339\u001b[0m     port \u001b[38;5;241m=\u001b[39m \u001b[38;5;28mself\u001b[39m\u001b[38;5;241m.\u001b[39mdefault_port\n\u001b[0;32m    340\u001b[0m sys\u001b[38;5;241m.\u001b[39maudit(\u001b[38;5;124m\"\u001b[39m\u001b[38;5;124msmtplib.connect\u001b[39m\u001b[38;5;124m\"\u001b[39m, \u001b[38;5;28mself\u001b[39m, host, port)\n\u001b[1;32m--> 341\u001b[0m \u001b[38;5;28mself\u001b[39m\u001b[38;5;241m.\u001b[39msock \u001b[38;5;241m=\u001b[39m \u001b[38;5;28mself\u001b[39m\u001b[38;5;241m.\u001b[39m_get_socket(host, port, \u001b[38;5;28mself\u001b[39m\u001b[38;5;241m.\u001b[39mtimeout)\n\u001b[0;32m    342\u001b[0m \u001b[38;5;28mself\u001b[39m\u001b[38;5;241m.\u001b[39mfile \u001b[38;5;241m=\u001b[39m \u001b[38;5;28;01mNone\u001b[39;00m\n\u001b[0;32m    343\u001b[0m (code, msg) \u001b[38;5;241m=\u001b[39m \u001b[38;5;28mself\u001b[39m\u001b[38;5;241m.\u001b[39mgetreply()\n",
      "File \u001b[1;32m~\\AppData\\Local\\anaconda3\\Lib\\smtplib.py:312\u001b[0m, in \u001b[0;36mSMTP._get_socket\u001b[1;34m(self, host, port, timeout)\u001b[0m\n\u001b[0;32m    310\u001b[0m \u001b[38;5;28;01mif\u001b[39;00m \u001b[38;5;28mself\u001b[39m\u001b[38;5;241m.\u001b[39mdebuglevel \u001b[38;5;241m>\u001b[39m \u001b[38;5;241m0\u001b[39m:\n\u001b[0;32m    311\u001b[0m     \u001b[38;5;28mself\u001b[39m\u001b[38;5;241m.\u001b[39m_print_debug(\u001b[38;5;124m'\u001b[39m\u001b[38;5;124mconnect: to\u001b[39m\u001b[38;5;124m'\u001b[39m, (host, port), \u001b[38;5;28mself\u001b[39m\u001b[38;5;241m.\u001b[39msource_address)\n\u001b[1;32m--> 312\u001b[0m \u001b[38;5;28;01mreturn\u001b[39;00m socket\u001b[38;5;241m.\u001b[39mcreate_connection((host, port), timeout,\n\u001b[0;32m    313\u001b[0m                                 \u001b[38;5;28mself\u001b[39m\u001b[38;5;241m.\u001b[39msource_address)\n",
      "File \u001b[1;32m~\\AppData\\Local\\anaconda3\\Lib\\socket.py:851\u001b[0m, in \u001b[0;36mcreate_connection\u001b[1;34m(address, timeout, source_address, all_errors)\u001b[0m\n\u001b[0;32m    849\u001b[0m \u001b[38;5;28;01mtry\u001b[39;00m:\n\u001b[0;32m    850\u001b[0m     \u001b[38;5;28;01mif\u001b[39;00m \u001b[38;5;129;01mnot\u001b[39;00m all_errors:\n\u001b[1;32m--> 851\u001b[0m         \u001b[38;5;28;01mraise\u001b[39;00m exceptions[\u001b[38;5;241m0\u001b[39m]\n\u001b[0;32m    852\u001b[0m     \u001b[38;5;28;01mraise\u001b[39;00m ExceptionGroup(\u001b[38;5;124m\"\u001b[39m\u001b[38;5;124mcreate_connection failed\u001b[39m\u001b[38;5;124m\"\u001b[39m, exceptions)\n\u001b[0;32m    853\u001b[0m \u001b[38;5;28;01mfinally\u001b[39;00m:\n\u001b[0;32m    854\u001b[0m     \u001b[38;5;66;03m# Break explicitly a reference cycle\u001b[39;00m\n",
      "File \u001b[1;32m~\\AppData\\Local\\anaconda3\\Lib\\socket.py:836\u001b[0m, in \u001b[0;36mcreate_connection\u001b[1;34m(address, timeout, source_address, all_errors)\u001b[0m\n\u001b[0;32m    834\u001b[0m \u001b[38;5;28;01mif\u001b[39;00m source_address:\n\u001b[0;32m    835\u001b[0m     sock\u001b[38;5;241m.\u001b[39mbind(source_address)\n\u001b[1;32m--> 836\u001b[0m sock\u001b[38;5;241m.\u001b[39mconnect(sa)\n\u001b[0;32m    837\u001b[0m \u001b[38;5;66;03m# Break explicitly a reference cycle\u001b[39;00m\n\u001b[0;32m    838\u001b[0m exceptions\u001b[38;5;241m.\u001b[39mclear()\n",
      "\u001b[1;31mPermissionError\u001b[0m: [WinError 10013] Foi feita uma tentativa de acesso a um soquete de uma maneira que é proibida pelas permissões de acesso"
     ]
    }
   ],
   "source": [
    "import smtplib\n",
    "\n",
    "from email.mime.multipart import MIMEMultipart\n",
    "from email.mime.text import MIMEText\n",
    "from email.mime.base import MIMEBase\n",
    "from email import encoders\n",
    "\n",
    "fromaddr = \"criandorobosempython@gmail.com\"\n",
    "toaddr = \"criandorobosempython@gmail.com, gabrielcasemiro68@gmail.com\"\n",
    "\n",
    "# Instância do MIMEMultipart\n",
    "msg = MIMEMultipart()\n",
    "\n",
    "msg['From'] = fromaddr\n",
    "msg['To'] = toaddr\n",
    "msg['Subject'] = \"Venha conhecer nosso restaurante!!!\"\n",
    "\n",
    "body = \"\"\"Inauguração do nosso restaurante essa noite, venha conhecer.\"\"\"\n",
    "msg.attach(MIMEText(body, 'plain'))\n",
    "#Servidor SMTP\n",
    "s = smtplib.SMTP('smtp.gmail.com', 587)\n",
    "# Segurança\n",
    "s.starttls()\n",
    "s.login(fromaddr, 'robos123')\n",
    "# Converte para String\n",
    "text = msg.as_string()\n",
    "s.sendmail(fromaddr, toaddr, text)\n",
    "\n",
    "s.quit()\n"
   ]
  },
  {
   "cell_type": "markdown",
   "id": "41175158",
   "metadata": {},
   "source": [
    "## Excel com Openpyxl"
   ]
  },
  {
   "cell_type": "code",
   "execution_count": 3,
   "id": "c0e1ec40",
   "metadata": {},
   "outputs": [
    {
     "name": "stdout",
     "output_type": "stream",
     "text": [
      "Requirement already satisfied: openpyxl in c:\\users\\e109969\\appdata\\local\\anaconda3\\lib\\site-packages (3.0.10)\n",
      "Requirement already satisfied: et_xmlfile in c:\\users\\e109969\\appdata\\local\\anaconda3\\lib\\site-packages (from openpyxl) (1.1.0)\n"
     ]
    }
   ],
   "source": [
    "# !pip install openpyxl"
   ]
  },
  {
   "cell_type": "code",
   "execution_count": 4,
   "id": "a99f407f",
   "metadata": {},
   "outputs": [],
   "source": [
    "from openpyxl import Workbook # Estamos importando uma classe dentro do arquivo openpyxl\n",
    "from openpyxl import load_workbook # Estamos importando uma função, que somente lê\n",
    "\n",
    "wb = Workbook()\n",
    "\n",
    "nome_arquivo = \"arquivo.xlsx\" # Manipular tudo oque existe dentro do excel\n",
    "ws1 = wb.active\n",
    "ws1.title = \"Planilha 1\"\n",
    "\n",
    "dados = [\n",
    "    ['Ano','Lucro','Custos'],\n",
    "    [2015,'30%','40%']\n",
    "]\n",
    "\n",
    "for linha in dados:\n",
    "    ws1.append(linha) # adicionando dentro do arquivo excel\n",
    "\n",
    "wb.save(filename=nome_arquivo)\n",
    "\n",
    "# LENDO O ARQUIVO EXCEL EXISTENTE\n",
    "\n",
    "wb = load_workbook(filename=\"nomes.xlsx\") # planilha cheia de nomes (CAMINHO)\n",
    "planilha1 = wb['Planilha1'] # entrando dentro da página em que queremos\n",
    "print(planilha1['A2'].value) #célula com o seu valor sendo mostrado\n",
    "\n",
    "\n",
    "for i in range(2,5): # passando 3 vezes, basta a gente substituir o nome para cada valor no excel\n",
    "    print(f'{planilha1[f'A{i}'].value} tem {planilha[f'B{i}'].value} anos') \n",
    "    # percorrendo o número, da célula através da iteração do I.\n",
    "    \n"
   ]
  },
  {
   "cell_type": "markdown",
   "id": "07c10a8a",
   "metadata": {},
   "source": [
    "## Movendo células de um arquivo em EXCEL\n",
    "* Podemos fazer diversas outras coisas dentro de um arquivo xlsx"
   ]
  },
  {
   "cell_type": "code",
   "execution_count": 6,
   "id": "fabc54af",
   "metadata": {},
   "outputs": [],
   "source": [
    "from openpyxl import load_workbook\n",
    "\n",
    "dest_filename = 'book.xlsx'\n",
    "wb = load_workbook(filename=dest_filename)\n",
    "ws = wb['Data']\n",
    "\n",
    "ws.move_range('A2:Z2',rows=-1) # pegando do A2 até o Z2: falando que vai subtrair uma linha, e move\n",
    "wb.save(filename=dest_filename)\n",
    "\n",
    "ws.move_range('F8:F8',cols=2)\n",
    "wb.save(filename=dest_filename)"
   ]
  },
  {
   "cell_type": "markdown",
   "id": "e6beb1b7",
   "metadata": {},
   "source": [
    "## Mesclando arquivos Excel"
   ]
  },
  {
   "cell_type": "code",
   "execution_count": null,
   "id": "cb0323d2",
   "metadata": {},
   "outputs": [],
   "source": [
    "from openpyxl import load_workbook\n",
    "from openpyxl import Workbook\n",
    "\n",
    "#Lista de arquivos Excel para juntar\n",
    "lista_arquivos = ['CustosAutom','PopulacaoPOA','SuperMercado']\n",
    "\n",
    "#Novo arquivo\n",
    "wb = Workbook()\n",
    "nome_arquivo_final = \"resultado.xlsx\"\n",
    "\n",
    "for nome_arquivo in lista_arquivos:\n",
    "    arquivo = load_workbook(filename=\"%s.xlsx\" % nome_arquivo)\n",
    "    sheet = arquivo[nome_arquivo]\n",
    "    max_linhas = sheet.max_row\n",
    "    max_colunas = sheet.max_column\n",
    "    # PEGANDO TUDO OQUE CADA ARQUIVO PODE TER DE LINHAS E COLUNAS\n",
    "    \n",
    "    #Nova planilha no resultado.xlsx\n",
    "    ws = wb.create_sheet(title=nome_arquivo)\n",
    "    \n",
    "    # PASSANDO OS DADOS DE UM PARA O OUTRO\n",
    "    for i in range (1, max_linhas + 1): \n",
    "        for j in range (1, max_colunas + 1): \n",
    "            # reading cell value from source excel file \n",
    "            c = sheet.cell(row = i, column = j) \n",
    "    \n",
    "            # writing the read value to destination excel file \n",
    "            ws.cell(row = i, column = j).value = c.value \n",
    "\n",
    "wb.remove(wb['Sheet'])\n",
    "wb.save(nome_arquivo_final)"
   ]
  },
  {
   "cell_type": "markdown",
   "id": "c7df9348",
   "metadata": {},
   "source": [
    "## Filtrando e Ordenando Colunas"
   ]
  },
  {
   "cell_type": "code",
   "execution_count": null,
   "id": "b02eb70c",
   "metadata": {},
   "outputs": [],
   "source": [
    "\n",
    "ws.auto_filter.ref = \"A1:B15\"\n",
    "ws.auto_filter.add_filter_column(0, [\"Kiwi\", \"Apple\", \"Mango\"])\n",
    "ws.auto_filter.add_sort_condition(\"B2:B15\")\n",
    "\n",
    "wb.save(\"filtered.xlsx\")"
   ]
  },
  {
   "cell_type": "markdown",
   "id": "65f5e7b6",
   "metadata": {},
   "source": [
    "## Utilizando API's para ajudar no envio de Email automático"
   ]
  },
  {
   "cell_type": "code",
   "execution_count": null,
   "id": "e727addd",
   "metadata": {},
   "outputs": [],
   "source": [
    "from selenium import webdriver\n",
    "from selenium.webdriver.common.keys import Keys\n",
    "import time\n",
    "import requests\n",
    "\n",
    "response = requests.get(\"https://api.github.com/users/gabriel\")\n",
    "data = response.json() # pegando inoformações de tal usuário\n",
    "\n",
    "\n",
    "# Atribuição de Variaveis\n",
    "email = \"roboparapython@gmail.com\"\n",
    "senha = \"cursopython123\"\n",
    "\n",
    "destinatario = \"roboparapython@gmail.com\"\n",
    "assunto = \"E-mail enviado pelo robo\"\n",
    "mensagem = \"API GitHub\\n Seguidores: %s\\n Seguindo: %s\\n\" % (data[\"followers\"],data[\"following\"])\n",
    "\n",
    "driver = webdriver.Chrome(\"/home/gabriel/Desktop/Robos/chromedriver\")\n",
    "\n",
    "print(\"Iniciando nosso robô...\\n\")\n",
    "print(\"Acessando o Gmail...\")\n",
    "driver.get(\"https://gmail.com.br/\")\n",
    "\n",
    "#LOGIN\n",
    "print(\"Realizando login...\")\n",
    "login = driver.find_element_by_id(\"identifierId\")\n",
    "login.clear()\n",
    "login.send_keys(email)\n",
    "login.send_keys(Keys.RETURN)\n",
    "time.sleep(2)\n",
    "\n",
    "password = driver.find_element_by_name(\"password\")\n",
    "password.clear()\n",
    "password.send_keys(senha)\n",
    "password.send_keys(Keys.RETURN)\n",
    "time.sleep(6)\n",
    "print(\"Login realizado...\")\n",
    "\n",
    "print(\"Abrindo caixa de e-mail\")\n",
    "driver.get(\"https://mail.google.com/mail/u/0/#inbox?compose=new\")\n",
    "time.sleep(10)\n",
    "\n",
    "print(\"Escrevendo o e-mail...\")\n",
    "para = driver.find_element_by_name(\"to\")\n",
    "para.send_keys(destinatario)\n",
    "para.send_keys(Keys.RETURN)\n",
    "\n",
    "titulo = driver.find_element_by_name(\"subjectbox\")\n",
    "titulo.send_keys(assunto)\n",
    "titulo.send_keys(Keys.RETURN)\n",
    "\n",
    "corpo_de_texto = driver.find_element_by_xpath(\"//div[@role='textbox']\")\n",
    "corpo_de_texto.send_keys(mensagem)\n",
    "\n",
    "enviar = driver.find_element_by_xpath(\"//div[@aria-label='Enviar ‪(Ctrl-Enter)‬']\")\n",
    "enviar.click()\n",
    "print(\"Enviado e-mail...\")\n",
    "time.sleep(5)\n",
    "print(\"E-mail enviado com sucesso!\")\n",
    "\n",
    "driver.close()\n"
   ]
  }
 ],
 "metadata": {
  "kernelspec": {
   "display_name": "Python 3 (ipykernel)",
   "language": "python",
   "name": "python3"
  },
  "language_info": {
   "codemirror_mode": {
    "name": "ipython",
    "version": 3
   },
   "file_extension": ".py",
   "mimetype": "text/x-python",
   "name": "python",
   "nbconvert_exporter": "python",
   "pygments_lexer": "ipython3",
   "version": "3.11.4"
  }
 },
 "nbformat": 4,
 "nbformat_minor": 5
}
